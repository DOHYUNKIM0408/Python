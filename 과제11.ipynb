{
  "nbformat": 4,
  "nbformat_minor": 0,
  "metadata": {
    "colab": {
      "provenance": [],
      "authorship_tag": "ABX9TyMTN6/ITp7+2oWX6HjBdkqz",
      "include_colab_link": true
    },
    "kernelspec": {
      "name": "python3",
      "display_name": "Python 3"
    },
    "language_info": {
      "name": "python"
    }
  },
  "cells": [
    {
      "cell_type": "markdown",
      "metadata": {
        "id": "view-in-github",
        "colab_type": "text"
      },
      "source": [
        "<a href=\"https://colab.research.google.com/github/DOHYUNKIM0408/Python/blob/main/%EA%B3%BC%EC%A0%9C11.ipynb\" target=\"_parent\"><img src=\"https://colab.research.google.com/assets/colab-badge.svg\" alt=\"Open In Colab\"/></a>"
      ]
    },
    {
      "cell_type": "code",
      "execution_count": 3,
      "metadata": {
        "colab": {
          "base_uri": "https://localhost:8080/"
        },
        "id": "CVeZbt70e8Fd",
        "outputId": "a55f7ad3-b258-435d-e530-d768498c3f74"
      },
      "outputs": [
        {
          "output_type": "stream",
          "name": "stdout",
          "text": [
            "첫번째 숫자를 입력 : 1\n",
            "두번째 숫자를 입력 : 2\n",
            "세번째 숫자를 입력 : 3\n",
            "네번째 숫자를 입력 : 4\n",
            "다섯번째 숫자를 입력 : 5\n",
            "리스트의 합계 :  15\n"
          ]
        }
      ],
      "source": [
        "numList = [0, 0, 0, 0, 0]\n",
        "hap = 0\n",
        "\n",
        "numList[0] = int(input(\"첫번째 숫자를 입력 : \"))\n",
        "numList[1] = int(input(\"두번째 숫자를 입력 : \"))\n",
        "numList[2] = int(input(\"세번째 숫자를 입력 : \"))\n",
        "numList[3] = int(input(\"네번째 숫자를 입력 : \"))\n",
        "numList[4] = int(input(\"다섯번째 숫자를 입력 : \"))\n",
        "\n",
        "sum = numList[0] + numList[1] + numList[2] + numList[3] + numList[4]\n",
        "print(\"리스트의 합계 : \", sum)"
      ]
    },
    {
      "cell_type": "code",
      "source": [
        "myList = []\n",
        "\n",
        "myList.append(\"안산\")\n",
        "myList.append(\"공고\")\n",
        "myList.append(3105)\n",
        "myList.append(777)\n",
        "\n",
        "print(myList)"
      ],
      "metadata": {
        "colab": {
          "base_uri": "https://localhost:8080/"
        },
        "id": "MZp6Sbr2pfc1",
        "outputId": "7801e916-4741-400f-b755-38cc4ef3030f"
      },
      "execution_count": 4,
      "outputs": [
        {
          "output_type": "stream",
          "name": "stdout",
          "text": [
            "['안산', '공고', 3105, 777]\n"
          ]
        }
      ]
    },
    {
      "cell_type": "code",
      "source": [
        "import random\n",
        "\n",
        "wiseSay = [\"중요한 건 꺾이지 않는 마음\",\n",
        "           \"너 자신을 알라\",\n",
        "           \"피할 수 없으면 즐겨라\",\n",
        "           \"돈 벌면 행복한 줄 알았는데 행복팔아 돈버는 거 였다\",\n",
        "           \"이 또한 지나가리\",\n",
        "           \"신이 널 도우면 형벌, 신이 날 도우면 천벌\"]\n",
        "rnd_say = random.randrange(0, len(wiseSay))\n",
        "print(\"오늘의 명언 ==> \", wiseSay[rnd_say])"
      ],
      "metadata": {
        "colab": {
          "base_uri": "https://localhost:8080/"
        },
        "id": "XZhctRVAuwz-",
        "outputId": "0730c263-31c2-466a-d864-a812b5880f74"
      },
      "execution_count": 9,
      "outputs": [
        {
          "output_type": "stream",
          "name": "stdout",
          "text": [
            "오늘의 명언 ==>  돈 벌면 행복한 줄 알았는데 행복팔아 돈버는 거 였다\n"
          ]
        }
      ]
    },
    {
      "cell_type": "code",
      "source": [
        "import datetime\n",
        "\n",
        "now = datetime.date.today()\n",
        "birthday = datetime.date(2005, 6, 20)\n",
        "age = now - birthday\n",
        "print(age.days/365)"
      ],
      "metadata": {
        "colab": {
          "base_uri": "https://localhost:8080/"
        },
        "id": "AqTVV5ubyT6V",
        "outputId": "0ea2a31b-2af7-41b1-97b5-e0247ade2338"
      },
      "execution_count": 16,
      "outputs": [
        {
          "output_type": "stream",
          "name": "stdout",
          "text": [
            "17.816438356164383\n"
          ]
        }
      ]
    }
  ]
}