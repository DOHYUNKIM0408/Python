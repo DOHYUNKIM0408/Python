{
  "nbformat": 4,
  "nbformat_minor": 0,
  "metadata": {
    "colab": {
      "provenance": [],
      "authorship_tag": "ABX9TyNIjl2mytiLI/Ax+lSnV/4n",
      "include_colab_link": true
    },
    "kernelspec": {
      "name": "python3",
      "display_name": "Python 3"
    },
    "language_info": {
      "name": "python"
    }
  },
  "cells": [
    {
      "cell_type": "markdown",
      "metadata": {
        "id": "view-in-github",
        "colab_type": "text"
      },
      "source": [
        "<a href=\"https://colab.research.google.com/github/DOHYUNKIM0408/Python/blob/main/%EA%B3%BC%EC%A0%9C4.ipynb\" target=\"_parent\"><img src=\"https://colab.research.google.com/assets/colab-badge.svg\" alt=\"Open In Colab\"/></a>"
      ]
    },
    {
      "cell_type": "code",
      "execution_count": 15,
      "metadata": {
        "id": "fEZaVfeoTZQ7",
        "colab": {
          "base_uri": "https://localhost:8080/"
        },
        "outputId": "d2e3a8b9-4af4-44bd-f9dd-af49515a1691"
      },
      "outputs": [
        {
          "output_type": "stream",
          "name": "stdout",
          "text": [
            "오늘 총 매출액은 11600 원 입니다\n"
          ]
        }
      ],
      "source": [
        "triangleGimbap = 900 \n",
        "bananaMilk = 1800\n",
        "lunchBox = 3500\n",
        "lunchBox2 = 4000\n",
        "cola = 1500\n",
        "shrimpCrackers = 2000\n",
        "canCoffee = 1800\n",
        "\n",
        "purchasePrice1 = triangleGimbap = 900 * 10\n",
        "purchasePrice2 = lunchBox = 3500 * 5\n",
        "\n",
        "salePrice1 = bananaMilk = 1800 * 2\n",
        "salePrice2 = lunchBox2 = 4000 * 4\n",
        "salePrice3 = cola = 1500 \n",
        "salePrice4 = shrimpCrackers = 2000 * 4\n",
        "salePrice5 = canCoffee = 1800 * 5\n",
        "\n",
        "sum1 = purchasePrice1 + purchasePrice2 \n",
        "sum2 = salePrice1 + salePrice2 + salePrice3 + salePrice4 + salePrice5\n",
        "sum = sum2 - sum1\n",
        "print(\"오늘 총 매출액은\",sum,\"원 입니다\")"
      ]
    }
  ]
}