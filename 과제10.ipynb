{
  "nbformat": 4,
  "nbformat_minor": 0,
  "metadata": {
    "colab": {
      "provenance": [],
      "authorship_tag": "ABX9TyOTTXQnVUDKIAacnh6PFEI2",
      "include_colab_link": true
    },
    "kernelspec": {
      "name": "python3",
      "display_name": "Python 3"
    },
    "language_info": {
      "name": "python"
    }
  },
  "cells": [
    {
      "cell_type": "markdown",
      "metadata": {
        "id": "view-in-github",
        "colab_type": "text"
      },
      "source": [
        "<a href=\"https://colab.research.google.com/github/DOHYUNKIM0408/Python/blob/main/%EA%B3%BC%EC%A0%9C10.ipynb\" target=\"_parent\"><img src=\"https://colab.research.google.com/assets/colab-badge.svg\" alt=\"Open In Colab\"/></a>"
      ]
    },
    {
      "cell_type": "code",
      "execution_count": 1,
      "metadata": {
        "colab": {
          "base_uri": "https://localhost:8080/"
        },
        "id": "e6urR05PaLMG",
        "outputId": "4e75fbd9-de11-4a3f-b368-9d8131ffb22e"
      },
      "outputs": [
        {
          "output_type": "stream",
          "name": "stdout",
          "text": [
            "주사위 3개가 모두 4 이다.\n",
            "같은 숫자가 나오기 까지  16 번 던졌습니다.\n"
          ]
        }
      ],
      "source": [
        "import random\n",
        "count = 0\n",
        "while True : \n",
        " dice1 = random.randint(1,6)\n",
        " dice2 = random.randint(1,6)\n",
        " dice3 = random.randint(1,6)\n",
        " count = count + 1\n",
        " if dice1 == dice2 == dice3 :\n",
        "   print(\"주사위 3개가 모두\", dice1, \"이다.\")\n",
        "   print(\"같은 숫자가 나오기 까지 \", count, \"번 던졌습니다.\")\n",
        "   break \n"
      ]
    },
    {
      "cell_type": "code",
      "source": [
        "import random\n",
        "game_count = 1\n",
        "com1 = 0\n",
        "player = 0\n",
        "\n",
        "while game_count <= 10 :\n",
        "  com1 = random.randint(1,5)\n",
        "  player = int(input(\"1~5 선택\"))\n",
        "  game_count += 1\n",
        "  if com1 != player :\n",
        "    print(\"오답 저는\", com1,\"을 생각했어요\")\n",
        "  elif com1 == player :\n",
        "    print(\"정답 저는\", com1,\"을 생각했어요\")\n",
        "  if game_count == 11 :\n",
        "    print(\"아이쿠 기회를 다 쓰셨어요 ㅋ\")\n",
        "    break"
      ],
      "metadata": {
        "colab": {
          "base_uri": "https://localhost:8080/"
        },
        "id": "du2drhE6aPfp",
        "outputId": "6ef034ad-d7a7-4cf7-a4d6-c8f68972bc6c"
      },
      "execution_count": 4,
      "outputs": [
        {
          "output_type": "stream",
          "name": "stdout",
          "text": [
            "1~5 선택1\n",
            "오답 저는 3 을 생각했어요\n",
            "1~5 선택2\n",
            "오답 저는 1 을 생각했어요\n",
            "1~5 선택2\n",
            "오답 저는 3 을 생각했어요\n",
            "1~5 선택3\n",
            "정답 저는 3 을 생각했어요\n",
            "1~5 선택4\n",
            "오답 저는 1 을 생각했어요\n",
            "1~5 선택5\n",
            "오답 저는 3 을 생각했어요\n",
            "1~5 선택6\n",
            "오답 저는 4 을 생각했어요\n",
            "1~5 선택7\n",
            "오답 저는 2 을 생각했어요\n",
            "1~5 선택7\n",
            "오답 저는 3 을 생각했어요\n",
            "1~5 선택7\n",
            "오답 저는 3 을 생각했어요\n",
            "아이쿠 기회를 다 쓰셨어요 ㅋ\n"
          ]
        }
      ]
    },
    {
      "cell_type": "code",
      "source": [
        "import random\n",
        "\n",
        "rnd_num = [1,2,3,4,5,6,7,8,9]\n",
        "\n",
        "r1=random.choice(rnd_num)\n",
        "rnd_num.remove(r1)\n",
        "print(\"리스트 ; \",rnd_num)\n",
        "print(\"랜덤값 : \",r1)"
      ],
      "metadata": {
        "colab": {
          "base_uri": "https://localhost:8080/"
        },
        "id": "a_gUrprSacl3",
        "outputId": "73f9127a-a356-4fd2-cf3a-3bac394984f9"
      },
      "execution_count": 5,
      "outputs": [
        {
          "output_type": "stream",
          "name": "stdout",
          "text": [
            "리스트 ;  [1, 2, 3, 4, 5, 6, 7, 9]\n",
            "랜덤값 :  8\n"
          ]
        }
      ]
    },
    {
      "cell_type": "code",
      "source": [
        "import random\n",
        "game_count = 1\n",
        "secret_number = random.sample(range(1,10),3) # range()\n",
        "print(secret_number)\n",
        "while game_count <= 10 :\n",
        "  strike = 0\n",
        "  ball = 0\n",
        "  player_number = input(\"3자리 숫자를 입력 :\")\n",
        "  player_number = list(player_number)\n",
        "  player_number[0] = int(player_number[0])\n",
        "  player_number[1] = int(player_number[1])\n",
        "  player_number[2] = int(player_number[2])\n",
        "\n",
        "  if (secret_number[0] == player_number[0]) :\n",
        "    strike = strike + 1\n",
        "  elif player_number[0] in secret_number :\n",
        "    ball = ball + 1\n",
        "  if (secret_number[1] == player_number[1]) :\n",
        "    strike = strike + 1\n",
        "  elif player_number[1] in secret_number :\n",
        "    ball = ball + 1\n",
        "  if (secret_number[2] == player_number[2]) :\n",
        "    strike = strike + 1\n",
        "  elif player_number[2] in secret_number :\n",
        "    ball = ball + 1\n",
        "     \n",
        "  print(strike, \"-스트라이크  //  \", ball, \"-볼\")\n",
        "  if strike == 3 :\n",
        "     print(\"맞췄습니다 ^0^\")\n",
        "     break\n"
      ],
      "metadata": {
        "colab": {
          "base_uri": "https://localhost:8080/"
        },
        "id": "v9ry5gMJbgSw",
        "outputId": "caa3273a-2382-483c-af23-5cd30d8b55f3"
      },
      "execution_count": 11,
      "outputs": [
        {
          "output_type": "stream",
          "name": "stdout",
          "text": [
            "[7, 6, 5]\n",
            "3자리 숫자를 입력 :765\n",
            "3 -스트라이크  //   0 -볼\n",
            "맞췄습니다 ^0^\n"
          ]
        }
      ]
    }
  ]
}