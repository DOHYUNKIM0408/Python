{
  "nbformat": 4,
  "nbformat_minor": 0,
  "metadata": {
    "colab": {
      "provenance": [],
      "authorship_tag": "ABX9TyP9AyIz/rUFMsX4/7kI6nxB",
      "include_colab_link": true
    },
    "kernelspec": {
      "name": "python3",
      "display_name": "Python 3"
    },
    "language_info": {
      "name": "python"
    }
  },
  "cells": [
    {
      "cell_type": "markdown",
      "metadata": {
        "id": "view-in-github",
        "colab_type": "text"
      },
      "source": [
        "<a href=\"https://colab.research.google.com/github/DOHYUNKIM0408/Python/blob/main/%EA%B3%BC%EC%A0%9C5.ipynb\" target=\"_parent\"><img src=\"https://colab.research.google.com/assets/colab-badge.svg\" alt=\"Open In Colab\"/></a>"
      ]
    },
    {
      "cell_type": "code",
      "execution_count": 1,
      "metadata": {
        "colab": {
          "base_uri": "https://localhost:8080/"
        },
        "id": "xSJqis3-WIt4",
        "outputId": "24f2d3be-1862-4986-b3f8-2fdc53962dea"
      },
      "outputs": [
        {
          "output_type": "stream",
          "name": "stdout",
          "text": [
            "정보처리기능사 실기 점수 입력 : 60\n",
            "합격\n",
            "축하합니다\n"
          ]
        }
      ],
      "source": [
        "score = int(input(\"정보처리기능사 실기 점수 입력 : \"))\n",
        "\n",
        "if score >= 60 :\n",
        "  print(\"합격\")\n",
        "  print(\"축하합니다\")\n",
        "else :\n",
        "  print(\"불합격\")"
      ]
    },
    {
      "cell_type": "code",
      "source": [
        "# 한줄 주석문 연습\n",
        "\"\"\"\n",
        "프로그래밍 수업 : 3월 20일 \n",
        "프로그래머 : 김도현\n",
        "프로그램 최종 작성일 : 3월 20일\n",
        "프로그램명 : 프로그래밍 연습\n",
        "\"\"\"\n",
        "print(\"파이썬(3) : B(3.5) \\n\")\n",
        "print(\"모바일(2) : A0(4.0)\\n\")\n",
        "print(\"엑셀(1) : A(4.5)\")\n",
        "python = float(input(\"파이썬 성적을 입력(예 : A) : \"))\n",
        "mobile = float(input(\"모바일 성적을 입력 : \"))\n",
        "excel = float(input(\"엑셀 성적을 입력 : \"))\n",
        "\n",
        "result = (python * 3) + (mobile * 2) + excel\n",
        "avg = result / 6\n",
        "\n",
        "print(\"평균 학점은 : \", round(avg, 3))\n"
      ],
      "metadata": {
        "colab": {
          "base_uri": "https://localhost:8080/"
        },
        "id": "RpszFDnzYFuW",
        "outputId": "95d1572a-9a63-4d18-8c80-128768449fb3"
      },
      "execution_count": 9,
      "outputs": [
        {
          "output_type": "stream",
          "name": "stdout",
          "text": [
            "파이썬(3) : B(3.5) \n",
            "\n",
            "모바일(2) : A0(4.0)\n",
            "\n",
            "엑셀(1) : A(4.5)\n",
            "파이썬 성적을 입력(예 : A) : 3.0\n",
            "모바일 성적을 입력 : 3.5\n",
            "엑셀 성적을 입력 : 4.9\n",
            "평균 학점은 :  3.483\n"
          ]
        }
      ]
    },
    {
      "cell_type": "code",
      "source": [
        "print(\"\\n줄바꿈\\n연습 \")\n",
        "print(\"\\t탭키\\t연습 \")\n",
        "print(\"어떤 글자를\\\"강조\\\"하는 효과1\")\n",
        "print(\"어떤 글자를\\'강조\\'하는 효과2\")\n",
        "print(\"\\\\\\\\ 백슬랙시 2개 출력\")"
      ],
      "metadata": {
        "colab": {
          "base_uri": "https://localhost:8080/"
        },
        "id": "Asr2nvSGcl7P",
        "outputId": "d927e406-bc74-4bba-ddb2-2ad22957fa1e"
      },
      "execution_count": 12,
      "outputs": [
        {
          "output_type": "stream",
          "name": "stdout",
          "text": [
            "\n",
            "줄바꿈\n",
            "연습 \n",
            "\t탭키\t연습 \n",
            "어떤 글자를\"강조\"하는 효과1\n",
            "어떤 글자를'강조'하는 효과2\n",
            "\\\\ 백슬랙시 2개 출력\n"
          ]
        }
      ]
    },
    {
      "cell_type": "code",
      "source": [
        "firstString = input(\"첫번째 문자열 : \")\n",
        "secondString = input(\"두번째 문자열 : \")\n",
        "\n",
        "len1 = len(firstString)\n",
        "len2 = len(secondString)\n",
        "\n",
        "diff = len1 - len2\n",
        "print(\"두 문자열의 길이 차이는\", diff, \"입니다\")"
      ],
      "metadata": {
        "colab": {
          "base_uri": "https://localhost:8080/"
        },
        "id": "L9zp9MGZdQtm",
        "outputId": "cec608bd-8106-4419-c35a-a3c75a21fcb4"
      },
      "execution_count": 13,
      "outputs": [
        {
          "output_type": "stream",
          "name": "stdout",
          "text": [
            "첫번째 문자열 : 난생처음 파이썬\n",
            "두번째 문자열 : First Python\n",
            "두 문자열의 길이 차이는 -4 입니다\n"
          ]
        }
      ]
    },
    {
      "cell_type": "code",
      "source": [
        "str1 = \"\"\"\n",
        "안산공업고등학교 컴퓨터과, 안산공업고등학교는\n",
        "기계과, 전기과, 전자과, 화공과, 디자인과, 컴퓨터과로 총 6개의\n",
        "과로 이뤄져있습니다.\n",
        "\"\"\"\n",
        "strLen = str1.count(\"안산\")\n",
        "print(strLen)\n"
      ],
      "metadata": {
        "colab": {
          "base_uri": "https://localhost:8080/"
        },
        "id": "QPD15cLojOnP",
        "outputId": "31d48588-d785-493c-c34e-d95b1b5a0a16"
      },
      "execution_count": 14,
      "outputs": [
        {
          "output_type": "stream",
          "name": "stdout",
          "text": [
            "2\n"
          ]
        }
      ]
    },
    {
      "cell_type": "code",
      "source": [
        "#let it be 가사가 몇번 나오는지 확인하는 프로그램\n",
        "#upper(), lower()\n",
        "\n",
        "str1 = \"\"\"\n",
        "When I find myself in times of trouble, Mother Mary comes to me\n",
        "Speaking words of wisdom, let it be\n",
        "And in my hour of darkness she is standing right in front of me\n",
        "Speaking words of wisdom, let it be\n",
        "Let it be, let it be, let it be, let it be\n",
        "Whisper words of wisdom, let it be\n",
        "And when the broken hearted people living in the world agree\n",
        "There will be an answer, let it be\n",
        "For though they may be parted, there is still a chance that they will see\n",
        "There will be an answer, let it be\n",
        "Let it be, let it be, let it be, let it be\n",
        "There will be an answer, let it be\n",
        "Let it be, let it be, let it be, let it be\n",
        "Whisper words of wisdom, let it be\n",
        "Let it be, let it be, let it be, let it be\n",
        "Whisper words of wisdom, let it be, be\n",
        "And when the night is cloudy there is still a light that shines on me\n",
        "Shinin' until tomorrow, let it be\n",
        "I wake up to the sound of music, Mother Mary comes to me\n",
        "Speaking words of wisdom, let it be\n",
        "And let it be, let it be, let it be, let it be\n",
        "Whisper words of wisdom, let it be\n",
        "And let it be, let it be, let it be, let it be\n",
        "Whisper words of wisdom, let it be\n",
        "\"\"\"\n",
        "str1 = str1.upper()\n",
        "strLen = str1.count(\"LET IT BE\")\n",
        "print(\"Let it be는 총\", strLen,\"번 나옵니다.\")\n",
        "\n",
        "print(strLen)"
      ],
      "metadata": {
        "colab": {
          "base_uri": "https://localhost:8080/"
        },
        "id": "g2_K84rDkAkX",
        "outputId": "da9a5950-56c2-489d-f9a5-fba3f4c964fa"
      },
      "execution_count": 22,
      "outputs": [
        {
          "output_type": "stream",
          "name": "stdout",
          "text": [
            "Let it be는 총 36 번 나옵니다.\n",
            "36\n"
          ]
        }
      ]
    }
  ]
}