{
  "nbformat": 4,
  "nbformat_minor": 0,
  "metadata": {
    "colab": {
      "provenance": [],
      "authorship_tag": "ABX9TyPk/VNYnj8DTl0UbuwuXPR4",
      "include_colab_link": true
    },
    "kernelspec": {
      "name": "python3",
      "display_name": "Python 3"
    },
    "language_info": {
      "name": "python"
    }
  },
  "cells": [
    {
      "cell_type": "markdown",
      "metadata": {
        "id": "view-in-github",
        "colab_type": "text"
      },
      "source": [
        "<a href=\"https://colab.research.google.com/github/DOHYUNKIM0408/Python/blob/main/untitled0.ipynb\" target=\"_parent\"><img src=\"https://colab.research.google.com/assets/colab-badge.svg\" alt=\"Open In Colab\"/></a>"
      ]
    },
    {
      "cell_type": "markdown",
      "source": [
        "컴퓨터과 3학년 1반 5번 김도현"
      ],
      "metadata": {
        "id": "66PW6f9hGjIb"
      }
    },
    {
      "cell_type": "code",
      "execution_count": null,
      "metadata": {
        "colab": {
          "base_uri": "https://localhost:8080/"
        },
        "id": "Uov7FENAGfOr",
        "outputId": "0611a06c-52f7-4307-d1bb-2be453e51a23"
      },
      "outputs": [
        {
          "output_type": "stream",
          "name": "stdout",
          "text": [
            "첫번째 정수 입력 : 10\n",
            "두번째 정수 입력 : 5\n",
            "10 + 5.0 = 15.0\n",
            "10 - 5.0 = 5.0\n",
            "10 * 5.0 = 50.0\n",
            "10 / 5.0 = 2.0\n",
            "10 % 5.0 = 0.0\n",
            "10 ** 5.0 = 100000.0\n"
          ]
        }
      ],
      "source": [
        "num1 = int(input(\"첫번째 정수 입력 : \"))\n",
        "num2 = float(input(\"두번째 정수 입력 : \"))\n",
        "\n",
        "sum1 = num1 + num2\n",
        "sum2 = num1 - num2\n",
        "sum3 = num1 * num2\n",
        "sum4 = num1 / num2\n",
        "sum5 = num1 % num2\n",
        "sum6 = num1 ** num2\n",
        "\n",
        "print(num1, \"+\", num2, \"=\", sum1)\n",
        "print(num1, \"-\", num2, \"=\", sum2)\n",
        "print(num1, \"*\", num2, \"=\", sum3)\n",
        "print(num1, \"/\", num2, \"=\", sum4)\n",
        "print(num1, \"%\", num2, \"=\", sum5)\n",
        "print(num1, \"**\", num2, \"=\", sum6)"
      ]
    }
  ]
}