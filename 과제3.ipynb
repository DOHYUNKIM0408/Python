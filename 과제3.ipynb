{
  "nbformat": 4,
  "nbformat_minor": 0,
  "metadata": {
    "colab": {
      "provenance": [],
      "authorship_tag": "ABX9TyMvTKE1I/x2P8OJcd+eS1Uk",
      "include_colab_link": true
    },
    "kernelspec": {
      "name": "python3",
      "display_name": "Python 3"
    },
    "language_info": {
      "name": "python"
    }
  },
  "cells": [
    {
      "cell_type": "markdown",
      "metadata": {
        "id": "view-in-github",
        "colab_type": "text"
      },
      "source": [
        "<a href=\"https://colab.research.google.com/github/DOHYUNKIM0408/Python/blob/main/%EA%B3%BC%EC%A0%9C3.ipynb\" target=\"_parent\"><img src=\"https://colab.research.google.com/assets/colab-badge.svg\" alt=\"Open In Colab\"/></a>"
      ]
    },
    {
      "cell_type": "code",
      "execution_count": 3,
      "metadata": {
        "colab": {
          "base_uri": "https://localhost:8080/"
        },
        "id": "26Bh2CpuMjk-",
        "outputId": "ed0b269b-0700-42a2-d10c-83e54dcf24fc"
      },
      "outputs": [
        {
          "output_type": "stream",
          "name": "stdout",
          "text": [
            "파운드(lb)를 입력하세요 : 20\n",
            "20 파운드(lb)는 9.07184 킬로그램(kg).\n",
            "킬로그램(kg)을 입력하세요 : 40\n",
            "40 킬로그램(kg)은 88.18492 파운드(pound).\n"
          ]
        }
      ],
      "source": [
        "pound = int(input(\"파운드(lb)를 입력하세요 : \"))\n",
        "kg = pound * 0.453592\n",
        "print(pound,\"파운드(lb)는\", round(kg,5),\"킬로그램(kg).\")\n",
        "kg = int(input(\"킬로그램(kg)을 입력하세요 : \"))\n",
        "pound = kg * 2.204623\n",
        "print(kg,\"킬로그램(kg)은\", round(pound,5),\"파운드(pound).\")"
      ]
    }
  ]
}