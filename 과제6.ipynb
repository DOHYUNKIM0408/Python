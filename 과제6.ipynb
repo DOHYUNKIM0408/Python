{
  "nbformat": 4,
  "nbformat_minor": 0,
  "metadata": {
    "colab": {
      "provenance": [],
      "authorship_tag": "ABX9TyMyMuNWjhNfbw9BOKEgwn7x",
      "include_colab_link": true
    },
    "kernelspec": {
      "name": "python3",
      "display_name": "Python 3"
    },
    "language_info": {
      "name": "python"
    }
  },
  "cells": [
    {
      "cell_type": "markdown",
      "metadata": {
        "id": "view-in-github",
        "colab_type": "text"
      },
      "source": [
        "<a href=\"https://colab.research.google.com/github/DOHYUNKIM0408/Python/blob/main/%EA%B3%BC%EC%A0%9C6.ipynb\" target=\"_parent\"><img src=\"https://colab.research.google.com/assets/colab-badge.svg\" alt=\"Open In Colab\"/></a>"
      ]
    },
    {
      "cell_type": "code",
      "execution_count": 6,
      "metadata": {
        "colab": {
          "base_uri": "https://localhost:8080/"
        },
        "id": "27QcESkqJ5JE",
        "outputId": "70c9282a-eadf-4141-8b69-b12c79693bd2"
      },
      "outputs": [
        {
          "output_type": "stream",
          "name": "stdout",
          "text": [
            "원본 문자열 :  트 와 이 스\n",
            "반대 문자열 :  스이와트\n"
          ]
        }
      ],
      "source": [
        "singer = [\"트\",\"와\",\"이\",\"스\"]\n",
        "reverse_singer = singer[3] + singer[2] + singer[1] + singer[0]\n",
        "\n",
        "#이부분에 코딩하세요.\n",
        "\n",
        "print(\"원본 문자열 : \", singer[0], singer[1], singer[2], singer[3])\n",
        "print(\"반대 문자열 : \", reverse_singer)\n"
      ]
    },
    {
      "cell_type": "code",
      "source": [
        "singer = \"트와이스\"\n",
        "\n",
        "print(\"원본 문자열 : \", singer)\n",
        "print(\"반대 문자열 : \", singer[::-1])"
      ],
      "metadata": {
        "colab": {
          "base_uri": "https://localhost:8080/"
        },
        "id": "6eCDQyNCPipu",
        "outputId": "d490b3b0-72c9-49c4-f08e-aa329d759ca2"
      },
      "execution_count": 7,
      "outputs": [
        {
          "output_type": "stream",
          "name": "stdout",
          "text": [
            "원본 문자열 :  트와이스\n",
            "반대 문자열 :  스이와트\n"
          ]
        }
      ]
    },
    {
      "cell_type": "code",
      "source": [
        "result1 = \"Python\"\n",
        "result2 = \"\"\n",
        "print(\"원본 문자열 : \", result1)\n",
        "\n",
        "result2 += result1[0].lower()\n",
        "result2 += result1[1].upper()\n",
        "result2 += result1[2].upper()\n",
        "result2 += result1[3].upper()\n",
        "result2 += result1[4].upper()\n",
        "result2 += result1[5].upper()\n",
        "print(\"반대 문자열 : \", end='')\n",
        "print(result2)"
      ],
      "metadata": {
        "colab": {
          "base_uri": "https://localhost:8080/"
        },
        "id": "ZnSoTPVYQ5LO",
        "outputId": "10da53c1-e6cd-4a49-ebaf-d7b0bb3f5281"
      },
      "execution_count": 9,
      "outputs": [
        {
          "output_type": "stream",
          "name": "stdout",
          "text": [
            "원본 문자열 :  Python\n",
            "반대 문자열 : pYTHON\n"
          ]
        }
      ]
    }
  ]
}